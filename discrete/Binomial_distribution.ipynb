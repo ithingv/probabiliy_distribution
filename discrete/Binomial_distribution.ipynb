{
  "nbformat": 4,
  "nbformat_minor": 0,
  "metadata": {
    "colab": {
      "name": "Binomial distribution.ipynb의 사본",
      "provenance": [],
      "collapsed_sections": []
    },
    "kernelspec": {
      "name": "python3",
      "display_name": "Python 3"
    },
    "language_info": {
      "name": "python"
    }
  },
  "cells": [
    {
      "cell_type": "markdown",
      "metadata": {
        "id": "J6Tzkd85NVcq"
      },
      "source": [
        "# 이항분포 (Binomial distribution)"
      ]
    },
    {
      "cell_type": "markdown",
      "metadata": {
        "id": "RAtTPxyCNVe8"
      },
      "source": [
        "---\n",
        "베르누이 분포에서는 시행을 딱 한번만 한 것을 고려한 것입니다. 이 때 시행을 여러 번 했을 때가 바로 이항분포입니다! **이항분포의 확률변수 X는 베르누이 시행을 n번 했을 때, 성공한 횟수**를 말합니다. 다시 말해서, 서로 독립이고 동일한 베르누이 분포를 따르는 n개의 확률변수 $X_1, X_2, \\cdots, X_n$을 모두 더한 것 $X = \\sum_{}^{}X_{i}$가 이항 확률변수가 됩니다. 이 때, X는 $Binomial(n,p)$를 따른다고 말합니다.   "
      ]
    },
    {
      "cell_type": "markdown",
      "metadata": {
        "id": "Cv5XARUQXiO1"
      },
      "source": [
        "<center>\n",
        " X ~ $Binomial(n, p)$\n",
        "\n",
        "$f_{X}(x) = \\binom{n}{x}p^{x}(1-p)^{n-x}$ , $x = 0,1,2,\\cdots, n$ \n",
        "</center>\n"
      ]
    },
    {
      "cell_type": "markdown",
      "metadata": {
        "id": "EKDpZ-e_NVhF"
      },
      "source": [
        "이제 이항분포의 기댓값과 분산, 그리고 적률생성함수까지 구해본다. 이항분포는 앞서 서로 독립이고 동일한 베르누이 분포를 따르는 확률변수를 n개 합한 것이기 때문에, 기댓값과 분산은 다음과 같이 매우 간단하게 구해집니다. 적률 역시 이항정리를 이용해서 쉽게 구할 수 있습니다."
      ]
    },
    {
      "cell_type": "markdown",
      "metadata": {
        "id": "trgkWuL71Arr"
      },
      "source": [
        "### 모멘트생성함수\n",
        "확률론과 통계학에서 임의의 확률변수 X의 기댓값이 존재한다면 X의 적률생성함수(moment generating function, mgf)는 다음과 같이 정의한다.\n",
        "\n",
        "$M_X(t) = E(e^tX)$ , $t \\in R$\n",
        "\n",
        "$M_X(t) = E(e^tX) = \\left\\{\\begin{matrix} \n",
        "\\sum_{}^{}e^{tX}\\cdot f(x), & \\text{when X is discrete}  \\\\\n",
        "\\int_{-\\infty}^{\\infty}e^{tX}\\cdot f(x)dx, & \\text{when X is continous}\n",
        "\\end{matrix}\\right.$"
      ]
    },
    {
      "cell_type": "markdown",
      "metadata": {
        "id": "LQnvKAvENVjM"
      },
      "source": [
        "\\begin{align*}\n",
        "E(X) &= E(\\sum_{x=0}^{n}X_{i}) = \\sum_{x=0}^{n}E(X_{i})=np\\\\\n",
        "Var(X) &= Var(\\sum_{x=0}^{n}X_{i}) = \\sum_{x=0}^{n}Var(X_{i}) = np(1-p)\\\\\n",
        "M_X(t) &= E(e^{tX}) = \\sum_{x=0}^{n}\\binom{n}{x}e^{tX}p^x(1-p)^{n-x}\\\\\n",
        "&= \\sum_{x=0}^{n}\\binom{n}{x}(pe^{t})^{x}(1-p)^{n-x} \\\\\n",
        "&= (1-p+pe^t)^n\n",
        "\\end{align*}\n",
        "\n",
        "**Reference**\n",
        "\n",
        "[The Moment Generating Function of the Binomial Distribution](https://www.le.ac.uk/users/dsgp1/COURSES/MATHSTAT/5binomgf.pdf)"
      ]
    },
    {
      "cell_type": "markdown",
      "metadata": {
        "id": "yJQPZ_tZ-MfL"
      },
      "source": [
        "### 베르누이 분포 시각화(Bernoulli Distribution Visualization) "
      ]
    },
    {
      "cell_type": "code",
      "metadata": {
        "id": "PbaFOSal-_DT"
      },
      "source": [
        ""
      ],
      "execution_count": null,
      "outputs": []
    }
  ]
}